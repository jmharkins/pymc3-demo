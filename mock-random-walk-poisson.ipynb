{
 "cells": [
  {
   "cell_type": "markdown",
   "metadata": {},
   "source": [
    "# Testing out a model with random walk Poisson parameters"
   ]
  },
  {
   "cell_type": "code",
   "execution_count": 1,
   "metadata": {
    "collapsed": true
   },
   "outputs": [],
   "source": [
    "import pandas as pd\n",
    "import numpy as np\n",
    "import theano.tensor as tt\n",
    "import pymc3 as pm\n",
    "import seaborn as sns"
   ]
  },
  {
   "cell_type": "code",
   "execution_count": 2,
   "metadata": {},
   "outputs": [
    {
     "name": "stdout",
     "output_type": "stream",
     "text": [
      "Populating the interactive namespace from numpy and matplotlib\n"
     ]
    }
   ],
   "source": [
    "%pylab inline"
   ]
  },
  {
   "cell_type": "markdown",
   "metadata": {},
   "source": [
    "### Read in basic mock data\n",
    "Each row has:\n",
    "- a pair of individual IDs for an \"A\" and \"B\" individual\n",
    "- a column for how many rows so far have contained this individual (e.g. a representation of \"time\" in the sample)\n",
    "- an \"interval\" representing a period of observations for each individual (basically make 10 total intervals over the 38 total observations for each individual)"
   ]
  },
  {
   "cell_type": "code",
   "execution_count": 3,
   "metadata": {
    "collapsed": true
   },
   "outputs": [],
   "source": [
    "data = pd.read_csv('mock_data.csv')"
   ]
  },
  {
   "cell_type": "code",
   "execution_count": 4,
   "metadata": {},
   "outputs": [
    {
     "data": {
      "text/html": [
       "<div>\n",
       "<style>\n",
       "    .dataframe thead tr:only-child th {\n",
       "        text-align: right;\n",
       "    }\n",
       "\n",
       "    .dataframe thead th {\n",
       "        text-align: left;\n",
       "    }\n",
       "\n",
       "    .dataframe tbody tr th {\n",
       "        vertical-align: top;\n",
       "    }\n",
       "</style>\n",
       "<table border=\"1\" class=\"dataframe\">\n",
       "  <thead>\n",
       "    <tr style=\"text-align: right;\">\n",
       "      <th></th>\n",
       "      <th>n_a</th>\n",
       "      <th>n_b</th>\n",
       "      <th>interval_a</th>\n",
       "      <th>interval_b</th>\n",
       "      <th>id_a</th>\n",
       "      <th>id_b</th>\n",
       "    </tr>\n",
       "  </thead>\n",
       "  <tbody>\n",
       "    <tr>\n",
       "      <th>0</th>\n",
       "      <td>0</td>\n",
       "      <td>0</td>\n",
       "      <td>0</td>\n",
       "      <td>0</td>\n",
       "      <td>0</td>\n",
       "      <td>3</td>\n",
       "    </tr>\n",
       "    <tr>\n",
       "      <th>1</th>\n",
       "      <td>0</td>\n",
       "      <td>0</td>\n",
       "      <td>0</td>\n",
       "      <td>0</td>\n",
       "      <td>8</td>\n",
       "      <td>16</td>\n",
       "    </tr>\n",
       "    <tr>\n",
       "      <th>2</th>\n",
       "      <td>0</td>\n",
       "      <td>0</td>\n",
       "      <td>0</td>\n",
       "      <td>0</td>\n",
       "      <td>7</td>\n",
       "      <td>17</td>\n",
       "    </tr>\n",
       "    <tr>\n",
       "      <th>3</th>\n",
       "      <td>0</td>\n",
       "      <td>0</td>\n",
       "      <td>0</td>\n",
       "      <td>0</td>\n",
       "      <td>10</td>\n",
       "      <td>19</td>\n",
       "    </tr>\n",
       "    <tr>\n",
       "      <th>4</th>\n",
       "      <td>0</td>\n",
       "      <td>0</td>\n",
       "      <td>0</td>\n",
       "      <td>0</td>\n",
       "      <td>18</td>\n",
       "      <td>4</td>\n",
       "    </tr>\n",
       "  </tbody>\n",
       "</table>\n",
       "</div>"
      ],
      "text/plain": [
       "   n_a  n_b  interval_a  interval_b  id_a  id_b\n",
       "0    0    0           0           0     0     3\n",
       "1    0    0           0           0     8    16\n",
       "2    0    0           0           0     7    17\n",
       "3    0    0           0           0    10    19\n",
       "4    0    0           0           0    18     4"
      ]
     },
     "execution_count": 4,
     "metadata": {},
     "output_type": "execute_result"
    }
   ],
   "source": [
    "data.head()"
   ]
  },
  {
   "cell_type": "code",
   "execution_count": 5,
   "metadata": {},
   "outputs": [
    {
     "data": {
      "text/plain": [
       "(380, 6)"
      ]
     },
     "execution_count": 5,
     "metadata": {},
     "output_type": "execute_result"
    }
   ],
   "source": [
    "data.shape"
   ]
  },
  {
   "cell_type": "markdown",
   "metadata": {},
   "source": [
    "(My basic definition for interval below:)"
   ]
  },
  {
   "cell_type": "code",
   "execution_count": 6,
   "metadata": {
    "collapsed": true
   },
   "outputs": [],
   "source": [
    "#data['interval_a'] = (data.n_a // 4)\n",
    "#data['interval_b'] = (data.n_b // 4)"
   ]
  },
  {
   "cell_type": "code",
   "execution_count": 7,
   "metadata": {},
   "outputs": [
    {
     "data": {
      "text/plain": [
       "array([0, 1, 2, 3, 4, 5, 6, 7, 8, 9])"
      ]
     },
     "execution_count": 7,
     "metadata": {},
     "output_type": "execute_result"
    }
   ],
   "source": [
    "data.interval_a.unique()"
   ]
  },
  {
   "cell_type": "markdown",
   "metadata": {},
   "source": [
    "### Creating mock data  \n",
    "I want to model a process where each row has two values, one for each individual, that come from a Poisson process.\n",
    "Furthermore, each individual has two parameters The Poisson distribution is parameterized such that:\n",
    "$$X_a \\sim Poisson(\\theta_a)$$\n",
    "$$X_b \\sim Poisson(\\theta_b)$$\n",
    "Where:\n",
    "$$log(\\theta_a) = add_a + sub_b$$\n",
    "$$log(\\theta_b) = add_b + sub_a$$\n",
    "\n",
    "That is, each individual has a true \"add\" rate and \"sub(tract)\" rate that contributes to their own count value and that of their paired individual. In this example, I'd like these parameters to vary over time according to a random walk. Thus, the add/subtract rates will be unique to each combination of (individual, interval)"
   ]
  },
  {
   "cell_type": "markdown",
   "metadata": {},
   "source": [
    "Create \"True\" starting  Poisson rates for each individual"
   ]
  },
  {
   "cell_type": "code",
   "execution_count": 8,
   "metadata": {
    "collapsed": true
   },
   "outputs": [],
   "source": [
    "true_add_rates = np.random.gamma(10, 1/8., size=(20,1))\n",
    "true_sub_rates = np.random.gamma(10, 1/8., size=(20,1))"
   ]
  },
  {
   "cell_type": "markdown",
   "metadata": {},
   "source": [
    "Now, add a random walk to these parameters for each individual over the 10 total intervals:"
   ]
  },
  {
   "cell_type": "code",
   "execution_count": 9,
   "metadata": {
    "collapsed": true
   },
   "outputs": [],
   "source": [
    "att_rw = np.random.normal(0, 0.05, size=(20,9))\n",
    "def_rw = np.random.normal(0, 0.05, size=(20,9))"
   ]
  },
  {
   "cell_type": "code",
   "execution_count": 10,
   "metadata": {
    "collapsed": true
   },
   "outputs": [],
   "source": [
    "interval_add_rates = np.concatenate((true_add_rates, att_rw), axis=1).cumsum(axis=1)\n",
    "interval_sub_rates = np.concatenate((true_sub_rates, def_rw), axis=1).cumsum(axis=1)"
   ]
  },
  {
   "cell_type": "markdown",
   "metadata": {},
   "source": [
    "Example of true \"add\" rate for individual 0, varying over time."
   ]
  },
  {
   "cell_type": "code",
   "execution_count": 11,
   "metadata": {},
   "outputs": [
    {
     "data": {
      "text/plain": [
       "array([ 0.7330871 ,  0.62427348,  0.71040413,  0.71312737,  0.76179902,\n",
       "        0.76833135,  0.80889259,  0.76476117,  0.71151382,  0.61701864])"
      ]
     },
     "execution_count": 11,
     "metadata": {},
     "output_type": "execute_result"
    }
   ],
   "source": [
    "interval_add_rates[0,:]"
   ]
  },
  {
   "cell_type": "markdown",
   "metadata": {},
   "source": [
    "I also impose a sum-to-zero constraint here on each of the add/subtract rates across all of the individuals, for each interval. This is achieved by subtracting the mean from each of the individual parameters. I add the mean back in later when taking poisson draws "
   ]
  },
  {
   "cell_type": "code",
   "execution_count": 12,
   "metadata": {
    "collapsed": true
   },
   "outputs": [],
   "source": [
    "true_add_rates = (interval_add_rates - interval_add_rates.mean(axis=0))"
   ]
  },
  {
   "cell_type": "code",
   "execution_count": 13,
   "metadata": {
    "collapsed": true
   },
   "outputs": [],
   "source": [
    "true_sub_rates = (interval_sub_rates - interval_sub_rates.mean(axis=0))"
   ]
  },
  {
   "cell_type": "code",
   "execution_count": 14,
   "metadata": {},
   "outputs": [
    {
     "data": {
      "text/plain": [
       "(20, 10)"
      ]
     },
     "execution_count": 14,
     "metadata": {},
     "output_type": "execute_result"
    }
   ],
   "source": [
    "true_add_rates.shape"
   ]
  },
  {
   "cell_type": "markdown",
   "metadata": {},
   "source": [
    "Join these true rates for each individual-interval back to the original data with pairs of individuals"
   ]
  },
  {
   "cell_type": "code",
   "execution_count": 15,
   "metadata": {
    "collapsed": true
   },
   "outputs": [],
   "source": [
    "full_add_rates = pd.DataFrame(true_add_rates)\n",
    "full_sub_rates = pd.DataFrame(true_sub_rates)"
   ]
  },
  {
   "cell_type": "code",
   "execution_count": 16,
   "metadata": {
    "collapsed": true
   },
   "outputs": [],
   "source": [
    "full_add_rates = full_add_rates.stack()\n",
    "full_add_rates.index.names = ['full_id', 'interval']\n",
    "full_add_rates.name = 'true_add'\n",
    "full_sub_rates = full_sub_rates.stack()\n",
    "full_sub_rates.index.names = ['full_id', 'interval']\n",
    "full_sub_rates.name = 'true_sub'"
   ]
  },
  {
   "cell_type": "code",
   "execution_count": 17,
   "metadata": {
    "collapsed": true
   },
   "outputs": [],
   "source": [
    "data = pd.merge(data, full_add_rates.to_frame(),\n",
    "                    how='left', left_on=['id_a','interval_a'],\n",
    "                    right_index=True)\n",
    "data = pd.merge(data, full_add_rates.to_frame(),\n",
    "                    how='left', left_on=['id_b', 'interval_b'],\n",
    "                    right_index=True)\n",
    "data = data.rename(columns={'true_add_x': 'true_add_a', 'true_add_y': 'true_add_b'})\n",
    "data = pd.merge(data, full_sub_rates.to_frame(),\n",
    "                    how='left', left_on=['id_a','interval_a'],\n",
    "                    right_index=True)\n",
    "data = pd.merge(data, full_sub_rates.to_frame(),\n",
    "                    how='left', left_on=['id_b', 'interval_b'],\n",
    "                    right_index=True)\n",
    "data = data.rename(columns={'true_sub_x': 'true_sub_a', 'true_sub_y': 'true_sub_b'})\n",
    "data = data[[i for i in data.columns if 'full_id' not in i]].copy()"
   ]
  },
  {
   "cell_type": "code",
   "execution_count": 18,
   "metadata": {},
   "outputs": [
    {
     "data": {
      "text/plain": [
       "array([-0.55518725,  0.06094377,  0.28350138, -0.09583855, -0.44010963,\n",
       "        0.13159133, -0.01521144, -0.47137044, -0.162909  ,  0.38012936,\n",
       "        0.97410712,  0.5041915 , -0.75094072,  0.42809228, -0.10629827,\n",
       "       -0.03211416, -0.82190344,  0.58301241,  0.1797391 , -0.07342536])"
      ]
     },
     "execution_count": 18,
     "metadata": {},
     "output_type": "execute_result"
    }
   ],
   "source": [
    "true_add_rates.mean(axis=1)"
   ]
  },
  {
   "cell_type": "code",
   "execution_count": 19,
   "metadata": {},
   "outputs": [
    {
     "data": {
      "text/html": [
       "<div>\n",
       "<style>\n",
       "    .dataframe thead tr:only-child th {\n",
       "        text-align: right;\n",
       "    }\n",
       "\n",
       "    .dataframe thead th {\n",
       "        text-align: left;\n",
       "    }\n",
       "\n",
       "    .dataframe tbody tr th {\n",
       "        vertical-align: top;\n",
       "    }\n",
       "</style>\n",
       "<table border=\"1\" class=\"dataframe\">\n",
       "  <thead>\n",
       "    <tr style=\"text-align: right;\">\n",
       "      <th></th>\n",
       "      <th>n_a</th>\n",
       "      <th>n_b</th>\n",
       "      <th>interval_a</th>\n",
       "      <th>interval_b</th>\n",
       "      <th>id_a</th>\n",
       "      <th>id_b</th>\n",
       "      <th>true_add_a</th>\n",
       "      <th>true_add_b</th>\n",
       "      <th>true_sub_a</th>\n",
       "      <th>true_sub_b</th>\n",
       "    </tr>\n",
       "  </thead>\n",
       "  <tbody>\n",
       "    <tr>\n",
       "      <th>0</th>\n",
       "      <td>0</td>\n",
       "      <td>0</td>\n",
       "      <td>0</td>\n",
       "      <td>0</td>\n",
       "      <td>0</td>\n",
       "      <td>3</td>\n",
       "      <td>-0.565807</td>\n",
       "      <td>-0.090804</td>\n",
       "      <td>1.028134</td>\n",
       "      <td>-0.025533</td>\n",
       "    </tr>\n",
       "    <tr>\n",
       "      <th>1</th>\n",
       "      <td>0</td>\n",
       "      <td>0</td>\n",
       "      <td>0</td>\n",
       "      <td>0</td>\n",
       "      <td>8</td>\n",
       "      <td>16</td>\n",
       "      <td>-0.235958</td>\n",
       "      <td>-0.730789</td>\n",
       "      <td>0.909008</td>\n",
       "      <td>0.095859</td>\n",
       "    </tr>\n",
       "    <tr>\n",
       "      <th>2</th>\n",
       "      <td>0</td>\n",
       "      <td>0</td>\n",
       "      <td>0</td>\n",
       "      <td>0</td>\n",
       "      <td>7</td>\n",
       "      <td>17</td>\n",
       "      <td>-0.576231</td>\n",
       "      <td>0.663638</td>\n",
       "      <td>-0.317331</td>\n",
       "      <td>0.147703</td>\n",
       "    </tr>\n",
       "    <tr>\n",
       "      <th>3</th>\n",
       "      <td>0</td>\n",
       "      <td>0</td>\n",
       "      <td>0</td>\n",
       "      <td>0</td>\n",
       "      <td>10</td>\n",
       "      <td>19</td>\n",
       "      <td>0.960896</td>\n",
       "      <td>-0.070490</td>\n",
       "      <td>-0.323154</td>\n",
       "      <td>0.155722</td>\n",
       "    </tr>\n",
       "    <tr>\n",
       "      <th>4</th>\n",
       "      <td>0</td>\n",
       "      <td>0</td>\n",
       "      <td>0</td>\n",
       "      <td>0</td>\n",
       "      <td>18</td>\n",
       "      <td>4</td>\n",
       "      <td>0.087794</td>\n",
       "      <td>-0.389996</td>\n",
       "      <td>-0.388655</td>\n",
       "      <td>0.190206</td>\n",
       "    </tr>\n",
       "  </tbody>\n",
       "</table>\n",
       "</div>"
      ],
      "text/plain": [
       "   n_a  n_b  interval_a  interval_b  id_a  id_b  true_add_a  true_add_b  \\\n",
       "0    0    0           0           0     0     3   -0.565807   -0.090804   \n",
       "1    0    0           0           0     8    16   -0.235958   -0.730789   \n",
       "2    0    0           0           0     7    17   -0.576231    0.663638   \n",
       "3    0    0           0           0    10    19    0.960896   -0.070490   \n",
       "4    0    0           0           0    18     4    0.087794   -0.389996   \n",
       "\n",
       "   true_sub_a  true_sub_b  \n",
       "0    1.028134   -0.025533  \n",
       "1    0.909008    0.095859  \n",
       "2   -0.317331    0.147703  \n",
       "3   -0.323154    0.155722  \n",
       "4   -0.388655    0.190206  "
      ]
     },
     "execution_count": 19,
     "metadata": {},
     "output_type": "execute_result"
    }
   ],
   "source": [
    "data.head()"
   ]
  },
  {
   "cell_type": "markdown",
   "metadata": {},
   "source": [
    "Compute some sample counts to build the model from by combining the true rates in the way described above to get a unique poisson parameter for each combination of teams and intervals. "
   ]
  },
  {
   "cell_type": "code",
   "execution_count": 20,
   "metadata": {
    "collapsed": true
   },
   "outputs": [],
   "source": [
    "data['rate_a'] = np.exp(np.log(1.25) + data.true_add_a + data.true_sub_b)\n",
    "data['rate_b'] = np.exp(np.log(1.25) + data.true_add_b + data.true_sub_a)"
   ]
  },
  {
   "cell_type": "code",
   "execution_count": 21,
   "metadata": {
    "collapsed": true
   },
   "outputs": [],
   "source": [
    "data['value_a'] = data.apply(lambda x: np.random.poisson(x.rate_a), axis=1)\n",
    "data['value_b'] = data.apply(lambda x: np.random.poisson(x.rate_b), axis=1)"
   ]
  },
  {
   "cell_type": "code",
   "execution_count": 22,
   "metadata": {},
   "outputs": [
    {
     "data": {
      "text/html": [
       "<div>\n",
       "<style>\n",
       "    .dataframe thead tr:only-child th {\n",
       "        text-align: right;\n",
       "    }\n",
       "\n",
       "    .dataframe thead th {\n",
       "        text-align: left;\n",
       "    }\n",
       "\n",
       "    .dataframe tbody tr th {\n",
       "        vertical-align: top;\n",
       "    }\n",
       "</style>\n",
       "<table border=\"1\" class=\"dataframe\">\n",
       "  <thead>\n",
       "    <tr style=\"text-align: right;\">\n",
       "      <th></th>\n",
       "      <th>n_a</th>\n",
       "      <th>n_b</th>\n",
       "      <th>interval_a</th>\n",
       "      <th>interval_b</th>\n",
       "      <th>id_a</th>\n",
       "      <th>id_b</th>\n",
       "      <th>true_add_a</th>\n",
       "      <th>true_add_b</th>\n",
       "      <th>true_sub_a</th>\n",
       "      <th>true_sub_b</th>\n",
       "      <th>rate_a</th>\n",
       "      <th>rate_b</th>\n",
       "      <th>value_a</th>\n",
       "      <th>value_b</th>\n",
       "    </tr>\n",
       "  </thead>\n",
       "  <tbody>\n",
       "    <tr>\n",
       "      <th>0</th>\n",
       "      <td>0</td>\n",
       "      <td>0</td>\n",
       "      <td>0</td>\n",
       "      <td>0</td>\n",
       "      <td>0</td>\n",
       "      <td>3</td>\n",
       "      <td>-0.565807</td>\n",
       "      <td>-0.090804</td>\n",
       "      <td>1.028134</td>\n",
       "      <td>-0.025533</td>\n",
       "      <td>0.691981</td>\n",
       "      <td>3.191444</td>\n",
       "      <td>1</td>\n",
       "      <td>1</td>\n",
       "    </tr>\n",
       "    <tr>\n",
       "      <th>1</th>\n",
       "      <td>0</td>\n",
       "      <td>0</td>\n",
       "      <td>0</td>\n",
       "      <td>0</td>\n",
       "      <td>8</td>\n",
       "      <td>16</td>\n",
       "      <td>-0.235958</td>\n",
       "      <td>-0.730789</td>\n",
       "      <td>0.909008</td>\n",
       "      <td>0.095859</td>\n",
       "      <td>1.086591</td>\n",
       "      <td>1.493859</td>\n",
       "      <td>0</td>\n",
       "      <td>1</td>\n",
       "    </tr>\n",
       "    <tr>\n",
       "      <th>2</th>\n",
       "      <td>0</td>\n",
       "      <td>0</td>\n",
       "      <td>0</td>\n",
       "      <td>0</td>\n",
       "      <td>7</td>\n",
       "      <td>17</td>\n",
       "      <td>-0.576231</td>\n",
       "      <td>0.663638</td>\n",
       "      <td>-0.317331</td>\n",
       "      <td>0.147703</td>\n",
       "      <td>0.814335</td>\n",
       "      <td>1.767295</td>\n",
       "      <td>1</td>\n",
       "      <td>1</td>\n",
       "    </tr>\n",
       "    <tr>\n",
       "      <th>3</th>\n",
       "      <td>0</td>\n",
       "      <td>0</td>\n",
       "      <td>0</td>\n",
       "      <td>0</td>\n",
       "      <td>10</td>\n",
       "      <td>19</td>\n",
       "      <td>0.960896</td>\n",
       "      <td>-0.070490</td>\n",
       "      <td>-0.323154</td>\n",
       "      <td>0.155722</td>\n",
       "      <td>3.818134</td>\n",
       "      <td>0.843243</td>\n",
       "      <td>2</td>\n",
       "      <td>0</td>\n",
       "    </tr>\n",
       "    <tr>\n",
       "      <th>4</th>\n",
       "      <td>0</td>\n",
       "      <td>0</td>\n",
       "      <td>0</td>\n",
       "      <td>0</td>\n",
       "      <td>18</td>\n",
       "      <td>4</td>\n",
       "      <td>0.087794</td>\n",
       "      <td>-0.389996</td>\n",
       "      <td>-0.388655</td>\n",
       "      <td>0.190206</td>\n",
       "      <td>1.650608</td>\n",
       "      <td>0.573781</td>\n",
       "      <td>1</td>\n",
       "      <td>0</td>\n",
       "    </tr>\n",
       "  </tbody>\n",
       "</table>\n",
       "</div>"
      ],
      "text/plain": [
       "   n_a  n_b  interval_a  interval_b  id_a  id_b  true_add_a  true_add_b  \\\n",
       "0    0    0           0           0     0     3   -0.565807   -0.090804   \n",
       "1    0    0           0           0     8    16   -0.235958   -0.730789   \n",
       "2    0    0           0           0     7    17   -0.576231    0.663638   \n",
       "3    0    0           0           0    10    19    0.960896   -0.070490   \n",
       "4    0    0           0           0    18     4    0.087794   -0.389996   \n",
       "\n",
       "   true_sub_a  true_sub_b    rate_a    rate_b  value_a  value_b  \n",
       "0    1.028134   -0.025533  0.691981  3.191444        1        1  \n",
       "1    0.909008    0.095859  1.086591  1.493859        0        1  \n",
       "2   -0.317331    0.147703  0.814335  1.767295        1        1  \n",
       "3   -0.323154    0.155722  3.818134  0.843243        2        0  \n",
       "4   -0.388655    0.190206  1.650608  0.573781        1        0  "
      ]
     },
     "execution_count": 22,
     "metadata": {},
     "output_type": "execute_result"
    }
   ],
   "source": [
    "data.head()"
   ]
  },
  {
   "cell_type": "code",
   "execution_count": 23,
   "metadata": {
    "collapsed": true
   },
   "outputs": [],
   "source": [
    "id_a = data.id_a.values\n",
    "id_b = data.id_b.values\n",
    "interval_a = data.interval_a.values\n",
    "interval_b = data.interval_b.values\n",
    "obs_value_a = data.value_a.astype('int').values\n",
    "obs_value_b = data.value_b.astype('int').values"
   ]
  },
  {
   "cell_type": "code",
   "execution_count": 24,
   "metadata": {
    "collapsed": true
   },
   "outputs": [],
   "source": [
    "rename_map = {i:i.split('_')[0] for i in data.columns if ('_a' in i) or ('_b' in i)}\n",
    "add_values_1 = data[['interval_b','id_b', 'value_b']].rename(columns=rename_map)\n",
    "add_values_2 = data[['interval_a','id_a', 'value_a']].rename(columns=rename_map)\n",
    "sub_values_1 = data[['interval_b','id_b', 'value_a']].rename(columns=rename_map)\n",
    "sub_values_2 = data[['interval_a','id_a', 'value_b']].rename(columns=rename_map)\n",
    "full_add_vals = pd.concat([add_values_1, add_values_2],axis=0)\n",
    "full_sub_vals = pd.concat([sub_values_1, sub_values_2],axis=0)"
   ]
  },
  {
   "cell_type": "code",
   "execution_count": 27,
   "metadata": {
    "collapsed": true
   },
   "outputs": [],
   "source": [
    "add_estimate = full_add_vals.groupby(['interval','id']).value.mean().unstack()\n",
    "sub_estimate = full_sub_vals.groupby(['interval','id']).value.mean().unstack()"
   ]
  },
  {
   "cell_type": "code",
   "execution_count": 28,
   "metadata": {},
   "outputs": [
    {
     "data": {
      "text/plain": [
       "(10, 20)"
      ]
     },
     "execution_count": 28,
     "metadata": {},
     "output_type": "execute_result"
    }
   ],
   "source": [
    "add_estimate.shape"
   ]
  },
  {
   "cell_type": "markdown",
   "metadata": {},
   "source": [
    "Functions for doing log transformation of thetas for poisson RVs"
   ]
  },
  {
   "cell_type": "code",
   "execution_count": 29,
   "metadata": {
    "collapsed": true
   },
   "outputs": [],
   "source": [
    "def a_theta_fn(id_a,\n",
    "               id_b,\n",
    "               interval_a,\n",
    "               interval_b,                                    \n",
    "               adds_est,\n",
    "               subs_est,\n",
    "               intercept):\n",
    "    log_theta = intercept + \\\n",
    "                adds_est[interval_a, id_a] + \\\n",
    "                subs_est[interval_b, id_b]\n",
    "    return tt.exp(log_theta)\n",
    "\n",
    "\n",
    "def b_theta_fn(id_a,\n",
    "               id_b,\n",
    "               interval_a,\n",
    "               interval_b,                                    \n",
    "               adds_est,\n",
    "               subs_est,\n",
    "               intercept):\n",
    "    log_theta = intercept + \\\n",
    "                adds_est[interval_b, id_b] + \\\n",
    "                subs_est[interval_a, id_a]\n",
    "    return tt.exp(log_theta)\n"
   ]
  },
  {
   "cell_type": "markdown",
   "metadata": {},
   "source": [
    "### Model Specification"
   ]
  },
  {
   "cell_type": "markdown",
   "metadata": {},
   "source": [
    "Construct model"
   ]
  },
  {
   "cell_type": "code",
   "execution_count": 30,
   "metadata": {
    "collapsed": true
   },
   "outputs": [],
   "source": [
    "n_intervals = 10"
   ]
  },
  {
   "cell_type": "code",
   "execution_count": 32,
   "metadata": {},
   "outputs": [],
   "source": [
    "with pm.Model() as model:\n",
    "    intercept = pm.Normal('intercept', mu=0, sd=1, testval=0.25)\n",
    "    adds_star = pm.GaussianRandomWalk(\"adds_star\",\n",
    "                          sd=0.0001,\n",
    "                          shape=(n_intervals, add_estimate.shape[1]),\n",
    "                          testval=add_estimate)\n",
    "    subs_star = pm.GaussianRandomWalk(\"subs_star\",\n",
    "                          sd=0.0001,\n",
    "                          shape=(n_intervals, sub_estimate.shape[1]),\n",
    "                          testval=sub_estimate)\n",
    "    \n",
    "    # normalize parameters -sum to zero constraint\n",
    "    adds_est = pm.Deterministic(\"adds\", adds_star - tt.tile(adds_star.mean(axis=1), (adds_star.shape[1], 1)).T)\n",
    "    subs_est = pm.Deterministic(\"subs\", subs_star - tt.tile(subs_star.mean(axis=1), (subs_star.shape[1], 1)).T)\n",
    "\n",
    "    a_dtistic = a_theta_fn(id_a,\n",
    "                           id_b,\n",
    "                           interval_a,\n",
    "                           interval_b,                                    \n",
    "                           adds_est,\n",
    "                           subs_est,\n",
    "                           intercept)\n",
    "\n",
    "    b_dtistic = b_theta_fn(id_a,\n",
    "                           id_b,\n",
    "                           interval_a,\n",
    "                           interval_b,                                    \n",
    "                           adds_est,\n",
    "                           subs_est,\n",
    "                           intercept)\n",
    "\n",
    "    a_theta = pm.Deterministic(\"home_theta\", a_dtistic)\n",
    "    b_theta = pm.Deterministic(\"away_theta\", b_dtistic)\n",
    "\n",
    "    a_counts = pm.Poisson('a_counts',\n",
    "                            mu=a_theta,\n",
    "                            observed=obs_value_a)\n",
    "    b_counts = pm.Poisson('b_counts',\n",
    "                            mu=b_theta,\n",
    "                            observed=obs_value_b)"
   ]
  },
  {
   "cell_type": "markdown",
   "metadata": {},
   "source": [
    "MCMC sampling"
   ]
  },
  {
   "cell_type": "code",
   "execution_count": 33,
   "metadata": {},
   "outputs": [
    {
     "name": "stderr",
     "output_type": "stream",
     "text": [
      "100%|██████████| 10500/10500 [00:12<00:00, 860.50it/s]\n"
     ]
    }
   ],
   "source": [
    "with model:\n",
    "    step1 = pm.Metropolis()\n",
    "    trace = pm.sample(10000, step=step1)"
   ]
  },
  {
   "cell_type": "markdown",
   "metadata": {},
   "source": [
    "### Results"
   ]
  },
  {
   "cell_type": "markdown",
   "metadata": {},
   "source": [
    "This should be "
   ]
  },
  {
   "cell_type": "code",
   "execution_count": 34,
   "metadata": {},
   "outputs": [
    {
     "data": {
      "text/plain": [
       "array([[<matplotlib.axes._subplots.AxesSubplot object at 0x127864f50>,\n",
       "        <matplotlib.axes._subplots.AxesSubplot object at 0x127918090>]], dtype=object)"
      ]
     },
     "execution_count": 34,
     "metadata": {},
     "output_type": "execute_result"
    },
    {
     "data": {
      "image/png": "[encoded data removed]",
      "text/plain": [
       "<matplotlib.figure.Figure at 0x11f061dd0>"
      ]
     },
     "metadata": {},
     "output_type": "display_data"
    }
   ],
   "source": [
    "pm.traceplot(trace, varnames=['intercept'])"
   ]
  },
  {
   "cell_type": "code",
   "execution_count": 35,
   "metadata": {},
   "outputs": [
    {
     "data": {
      "text/plain": [
       "array([[<matplotlib.axes._subplots.AxesSubplot object at 0x12accac50>,\n",
       "        <matplotlib.axes._subplots.AxesSubplot object at 0x12ad39c10>]], dtype=object)"
      ]
     },
     "execution_count": 35,
     "metadata": {},
     "output_type": "execute_result"
    },
    {
     "data": {
      "image/png": "[encoded data removed]",
      "text/plain": [
       "<matplotlib.figure.Figure at 0x12ab0e810>"
      ]
     },
     "metadata": {},
     "output_type": "display_data"
    }
   ],
   "source": [
    "pm.traceplot(trace, varnames=['subs'])"
   ]
  },
  {
   "cell_type": "markdown",
   "metadata": {},
   "source": [
    "### Examining individual/interval rates from the posteriors"
   ]
  },
  {
   "cell_type": "code",
   "execution_count": 36,
   "metadata": {
    "collapsed": true
   },
   "outputs": [],
   "source": [
    "add_samples = pd.DataFrame(trace['adds'].mean(axis=0))\n",
    "sub_samples = pd.DataFrame(trace['subs'].mean(axis=0))"
   ]
  },
  {
   "cell_type": "code",
   "execution_count": 37,
   "metadata": {
    "collapsed": true
   },
   "outputs": [],
   "source": [
    "add_posterior_means = add_samples.stack().swaplevel()\n",
    "add_posterior_means.index.names = ['full_id', 'interval'] \n",
    "sub_posterior_means = sub_samples.stack().swaplevel()\n",
    "sub_posterior_means.index.names = ['full_id', 'interval'] "
   ]
  },
  {
   "cell_type": "code",
   "execution_count": 38,
   "metadata": {
    "collapsed": true
   },
   "outputs": [],
   "source": [
    "# make a DF with team attacking and defensive strength, indexed by the 0...n-1 team IDs, with the team name added\n",
    "indiv_params = pd.DataFrame({'add':add_posterior_means,\n",
    "                               'sub':sub_posterior_means})                \n"
   ]
  },
  {
   "cell_type": "code",
   "execution_count": 39,
   "metadata": {},
   "outputs": [
    {
     "data": {
      "text/html": [
       "<div>\n",
       "<style>\n",
       "    .dataframe thead tr:only-child th {\n",
       "        text-align: right;\n",
       "    }\n",
       "\n",
       "    .dataframe thead th {\n",
       "        text-align: left;\n",
       "    }\n",
       "\n",
       "    .dataframe tbody tr th {\n",
       "        vertical-align: top;\n",
       "    }\n",
       "</style>\n",
       "<table border=\"1\" class=\"dataframe\">\n",
       "  <thead>\n",
       "    <tr style=\"text-align: right;\">\n",
       "      <th></th>\n",
       "      <th></th>\n",
       "      <th>add</th>\n",
       "      <th>sub</th>\n",
       "    </tr>\n",
       "    <tr>\n",
       "      <th>full_id</th>\n",
       "      <th>interval</th>\n",
       "      <th></th>\n",
       "      <th></th>\n",
       "    </tr>\n",
       "  </thead>\n",
       "  <tbody>\n",
       "    <tr>\n",
       "      <th>0</th>\n",
       "      <th>0</th>\n",
       "      <td>-0.805894</td>\n",
       "      <td>0.902967</td>\n",
       "    </tr>\n",
       "    <tr>\n",
       "      <th>1</th>\n",
       "      <th>0</th>\n",
       "      <td>-1.407112</td>\n",
       "      <td>-1.091009</td>\n",
       "    </tr>\n",
       "    <tr>\n",
       "      <th>2</th>\n",
       "      <th>0</th>\n",
       "      <td>0.456462</td>\n",
       "      <td>-0.310513</td>\n",
       "    </tr>\n",
       "    <tr>\n",
       "      <th>3</th>\n",
       "      <th>0</th>\n",
       "      <td>-0.282786</td>\n",
       "      <td>-0.542787</td>\n",
       "    </tr>\n",
       "    <tr>\n",
       "      <th>4</th>\n",
       "      <th>0</th>\n",
       "      <td>-0.689741</td>\n",
       "      <td>1.088295</td>\n",
       "    </tr>\n",
       "  </tbody>\n",
       "</table>\n",
       "</div>"
      ],
      "text/plain": [
       "                       add       sub\n",
       "full_id interval                    \n",
       "0       0        -0.805894  0.902967\n",
       "1       0        -1.407112 -1.091009\n",
       "2       0         0.456462 -0.310513\n",
       "3       0        -0.282786 -0.542787\n",
       "4       0        -0.689741  1.088295"
      ]
     },
     "execution_count": 39,
     "metadata": {},
     "output_type": "execute_result"
    }
   ],
   "source": [
    "indiv_params.head()"
   ]
  },
  {
   "cell_type": "markdown",
   "metadata": {},
   "source": [
    "Join these to the true rates to compare"
   ]
  },
  {
   "cell_type": "code",
   "execution_count": 40,
   "metadata": {
    "collapsed": true
   },
   "outputs": [],
   "source": [
    "indiv_params = indiv_params.join(full_add_rates, how='left').join(full_sub_rates, how='left')"
   ]
  },
  {
   "cell_type": "code",
   "execution_count": 41,
   "metadata": {},
   "outputs": [
    {
     "data": {
      "text/html": [
       "<div>\n",
       "<style>\n",
       "    .dataframe thead tr:only-child th {\n",
       "        text-align: right;\n",
       "    }\n",
       "\n",
       "    .dataframe thead th {\n",
       "        text-align: left;\n",
       "    }\n",
       "\n",
       "    .dataframe tbody tr th {\n",
       "        vertical-align: top;\n",
       "    }\n",
       "</style>\n",
       "<table border=\"1\" class=\"dataframe\">\n",
       "  <thead>\n",
       "    <tr style=\"text-align: right;\">\n",
       "      <th></th>\n",
       "      <th></th>\n",
       "      <th>add</th>\n",
       "      <th>sub</th>\n",
       "      <th>true_add</th>\n",
       "      <th>true_sub</th>\n",
       "    </tr>\n",
       "    <tr>\n",
       "      <th>full_id</th>\n",
       "      <th>interval</th>\n",
       "      <th></th>\n",
       "      <th></th>\n",
       "      <th></th>\n",
       "      <th></th>\n",
       "    </tr>\n",
       "  </thead>\n",
       "  <tbody>\n",
       "    <tr>\n",
       "      <th>0</th>\n",
       "      <th>0</th>\n",
       "      <td>-0.805894</td>\n",
       "      <td>0.902967</td>\n",
       "      <td>-0.565807</td>\n",
       "      <td>1.028134</td>\n",
       "    </tr>\n",
       "    <tr>\n",
       "      <th>1</th>\n",
       "      <th>0</th>\n",
       "      <td>-1.407112</td>\n",
       "      <td>-1.091009</td>\n",
       "      <td>0.054584</td>\n",
       "      <td>-0.094828</td>\n",
       "    </tr>\n",
       "    <tr>\n",
       "      <th>2</th>\n",
       "      <th>0</th>\n",
       "      <td>0.456462</td>\n",
       "      <td>-0.310513</td>\n",
       "      <td>0.374870</td>\n",
       "      <td>-0.290390</td>\n",
       "    </tr>\n",
       "    <tr>\n",
       "      <th>3</th>\n",
       "      <th>0</th>\n",
       "      <td>-0.282786</td>\n",
       "      <td>-0.542787</td>\n",
       "      <td>-0.090804</td>\n",
       "      <td>-0.025533</td>\n",
       "    </tr>\n",
       "    <tr>\n",
       "      <th>4</th>\n",
       "      <th>0</th>\n",
       "      <td>-0.689741</td>\n",
       "      <td>1.088295</td>\n",
       "      <td>-0.389996</td>\n",
       "      <td>0.190206</td>\n",
       "    </tr>\n",
       "    <tr>\n",
       "      <th>5</th>\n",
       "      <th>0</th>\n",
       "      <td>0.351690</td>\n",
       "      <td>0.317567</td>\n",
       "      <td>0.075837</td>\n",
       "      <td>-0.131558</td>\n",
       "    </tr>\n",
       "    <tr>\n",
       "      <th>6</th>\n",
       "      <th>0</th>\n",
       "      <td>0.037281</td>\n",
       "      <td>-0.018126</td>\n",
       "      <td>-0.026505</td>\n",
       "      <td>0.170707</td>\n",
       "    </tr>\n",
       "    <tr>\n",
       "      <th>7</th>\n",
       "      <th>0</th>\n",
       "      <td>-0.189041</td>\n",
       "      <td>-0.607342</td>\n",
       "      <td>-0.576231</td>\n",
       "      <td>-0.317331</td>\n",
       "    </tr>\n",
       "    <tr>\n",
       "      <th>8</th>\n",
       "      <th>0</th>\n",
       "      <td>0.087373</td>\n",
       "      <td>1.281420</td>\n",
       "      <td>-0.235958</td>\n",
       "      <td>0.909008</td>\n",
       "    </tr>\n",
       "    <tr>\n",
       "      <th>9</th>\n",
       "      <th>0</th>\n",
       "      <td>0.588528</td>\n",
       "      <td>-1.247383</td>\n",
       "      <td>0.285583</td>\n",
       "      <td>-0.457500</td>\n",
       "    </tr>\n",
       "    <tr>\n",
       "      <th>10</th>\n",
       "      <th>0</th>\n",
       "      <td>2.413115</td>\n",
       "      <td>-0.264217</td>\n",
       "      <td>0.960896</td>\n",
       "      <td>-0.323154</td>\n",
       "    </tr>\n",
       "    <tr>\n",
       "      <th>11</th>\n",
       "      <th>0</th>\n",
       "      <td>0.968850</td>\n",
       "      <td>0.522531</td>\n",
       "      <td>0.465336</td>\n",
       "      <td>-0.226733</td>\n",
       "    </tr>\n",
       "    <tr>\n",
       "      <th>12</th>\n",
       "      <th>0</th>\n",
       "      <td>-0.690888</td>\n",
       "      <td>-0.245011</td>\n",
       "      <td>-0.646994</td>\n",
       "      <td>0.097898</td>\n",
       "    </tr>\n",
       "    <tr>\n",
       "      <th>13</th>\n",
       "      <th>0</th>\n",
       "      <td>1.123418</td>\n",
       "      <td>0.571917</td>\n",
       "      <td>0.585964</td>\n",
       "      <td>-0.343051</td>\n",
       "    </tr>\n",
       "    <tr>\n",
       "      <th>14</th>\n",
       "      <th>0</th>\n",
       "      <td>0.418854</td>\n",
       "      <td>-0.639930</td>\n",
       "      <td>-0.143498</td>\n",
       "      <td>-0.300226</td>\n",
       "    </tr>\n",
       "    <tr>\n",
       "      <th>15</th>\n",
       "      <th>0</th>\n",
       "      <td>0.168723</td>\n",
       "      <td>0.550106</td>\n",
       "      <td>-0.077431</td>\n",
       "      <td>0.103723</td>\n",
       "    </tr>\n",
       "    <tr>\n",
       "      <th>16</th>\n",
       "      <th>0</th>\n",
       "      <td>-1.620531</td>\n",
       "      <td>0.180240</td>\n",
       "      <td>-0.730789</td>\n",
       "      <td>0.095859</td>\n",
       "    </tr>\n",
       "    <tr>\n",
       "      <th>17</th>\n",
       "      <th>0</th>\n",
       "      <td>0.419834</td>\n",
       "      <td>0.733785</td>\n",
       "      <td>0.663638</td>\n",
       "      <td>0.147703</td>\n",
       "    </tr>\n",
       "    <tr>\n",
       "      <th>18</th>\n",
       "      <th>0</th>\n",
       "      <td>-0.527102</td>\n",
       "      <td>-1.670057</td>\n",
       "      <td>0.087794</td>\n",
       "      <td>-0.388655</td>\n",
       "    </tr>\n",
       "    <tr>\n",
       "      <th>19</th>\n",
       "      <th>0</th>\n",
       "      <td>-0.821030</td>\n",
       "      <td>0.487545</td>\n",
       "      <td>-0.070490</td>\n",
       "      <td>0.155722</td>\n",
       "    </tr>\n",
       "    <tr>\n",
       "      <th>0</th>\n",
       "      <th>1</th>\n",
       "      <td>-0.606227</td>\n",
       "      <td>0.959402</td>\n",
       "      <td>-0.665534</td>\n",
       "      <td>0.950566</td>\n",
       "    </tr>\n",
       "    <tr>\n",
       "      <th>1</th>\n",
       "      <th>1</th>\n",
       "      <td>-1.363702</td>\n",
       "      <td>-1.311365</td>\n",
       "      <td>0.002954</td>\n",
       "      <td>-0.039217</td>\n",
       "    </tr>\n",
       "    <tr>\n",
       "      <th>2</th>\n",
       "      <th>1</th>\n",
       "      <td>0.401234</td>\n",
       "      <td>-0.105006</td>\n",
       "      <td>0.375661</td>\n",
       "      <td>-0.254806</td>\n",
       "    </tr>\n",
       "    <tr>\n",
       "      <th>3</th>\n",
       "      <th>1</th>\n",
       "      <td>-0.333873</td>\n",
       "      <td>-0.464025</td>\n",
       "      <td>-0.072599</td>\n",
       "      <td>0.005820</td>\n",
       "    </tr>\n",
       "    <tr>\n",
       "      <th>4</th>\n",
       "      <th>1</th>\n",
       "      <td>-0.717721</td>\n",
       "      <td>0.986254</td>\n",
       "      <td>-0.412512</td>\n",
       "      <td>0.251428</td>\n",
       "    </tr>\n",
       "    <tr>\n",
       "      <th>5</th>\n",
       "      <th>1</th>\n",
       "      <td>0.243136</td>\n",
       "      <td>0.631411</td>\n",
       "      <td>0.140119</td>\n",
       "      <td>-0.052155</td>\n",
       "    </tr>\n",
       "    <tr>\n",
       "      <th>6</th>\n",
       "      <th>1</th>\n",
       "      <td>-0.037464</td>\n",
       "      <td>-0.014632</td>\n",
       "      <td>0.049241</td>\n",
       "      <td>0.140423</td>\n",
       "    </tr>\n",
       "    <tr>\n",
       "      <th>7</th>\n",
       "      <th>1</th>\n",
       "      <td>-0.454430</td>\n",
       "      <td>-0.479509</td>\n",
       "      <td>-0.521713</td>\n",
       "      <td>-0.358751</td>\n",
       "    </tr>\n",
       "    <tr>\n",
       "      <th>8</th>\n",
       "      <th>1</th>\n",
       "      <td>-0.065603</td>\n",
       "      <td>1.379056</td>\n",
       "      <td>-0.227301</td>\n",
       "      <td>0.922936</td>\n",
       "    </tr>\n",
       "    <tr>\n",
       "      <th>9</th>\n",
       "      <th>1</th>\n",
       "      <td>0.598591</td>\n",
       "      <td>-1.482881</td>\n",
       "      <td>0.387853</td>\n",
       "      <td>-0.398188</td>\n",
       "    </tr>\n",
       "    <tr>\n",
       "      <th>10</th>\n",
       "      <th>1</th>\n",
       "      <td>2.584978</td>\n",
       "      <td>0.158012</td>\n",
       "      <td>0.906381</td>\n",
       "      <td>-0.296287</td>\n",
       "    </tr>\n",
       "    <tr>\n",
       "      <th>11</th>\n",
       "      <th>1</th>\n",
       "      <td>0.973978</td>\n",
       "      <td>0.181813</td>\n",
       "      <td>0.446687</td>\n",
       "      <td>-0.229846</td>\n",
       "    </tr>\n",
       "    <tr>\n",
       "      <th>12</th>\n",
       "      <th>1</th>\n",
       "      <td>-0.680517</td>\n",
       "      <td>0.001374</td>\n",
       "      <td>-0.626138</td>\n",
       "      <td>0.080671</td>\n",
       "    </tr>\n",
       "    <tr>\n",
       "      <th>13</th>\n",
       "      <th>1</th>\n",
       "      <td>1.039724</td>\n",
       "      <td>0.590670</td>\n",
       "      <td>0.493274</td>\n",
       "      <td>-0.411890</td>\n",
       "    </tr>\n",
       "    <tr>\n",
       "      <th>14</th>\n",
       "      <th>1</th>\n",
       "      <td>0.154029</td>\n",
       "      <td>-0.683559</td>\n",
       "      <td>-0.080896</td>\n",
       "      <td>-0.316528</td>\n",
       "    </tr>\n",
       "  </tbody>\n",
       "</table>\n",
       "</div>"
      ],
      "text/plain": [
       "                       add       sub  true_add  true_sub\n",
       "full_id interval                                        \n",
       "0       0        -0.805894  0.902967 -0.565807  1.028134\n",
       "1       0        -1.407112 -1.091009  0.054584 -0.094828\n",
       "2       0         0.456462 -0.310513  0.374870 -0.290390\n",
       "3       0        -0.282786 -0.542787 -0.090804 -0.025533\n",
       "4       0        -0.689741  1.088295 -0.389996  0.190206\n",
       "5       0         0.351690  0.317567  0.075837 -0.131558\n",
       "6       0         0.037281 -0.018126 -0.026505  0.170707\n",
       "7       0        -0.189041 -0.607342 -0.576231 -0.317331\n",
       "8       0         0.087373  1.281420 -0.235958  0.909008\n",
       "9       0         0.588528 -1.247383  0.285583 -0.457500\n",
       "10      0         2.413115 -0.264217  0.960896 -0.323154\n",
       "11      0         0.968850  0.522531  0.465336 -0.226733\n",
       "12      0        -0.690888 -0.245011 -0.646994  0.097898\n",
       "13      0         1.123418  0.571917  0.585964 -0.343051\n",
       "14      0         0.418854 -0.639930 -0.143498 -0.300226\n",
       "15      0         0.168723  0.550106 -0.077431  0.103723\n",
       "16      0        -1.620531  0.180240 -0.730789  0.095859\n",
       "17      0         0.419834  0.733785  0.663638  0.147703\n",
       "18      0        -0.527102 -1.670057  0.087794 -0.388655\n",
       "19      0        -0.821030  0.487545 -0.070490  0.155722\n",
       "0       1        -0.606227  0.959402 -0.665534  0.950566\n",
       "1       1        -1.363702 -1.311365  0.002954 -0.039217\n",
       "2       1         0.401234 -0.105006  0.375661 -0.254806\n",
       "3       1        -0.333873 -0.464025 -0.072599  0.005820\n",
       "4       1        -0.717721  0.986254 -0.412512  0.251428\n",
       "5       1         0.243136  0.631411  0.140119 -0.052155\n",
       "6       1        -0.037464 -0.014632  0.049241  0.140423\n",
       "7       1        -0.454430 -0.479509 -0.521713 -0.358751\n",
       "8       1        -0.065603  1.379056 -0.227301  0.922936\n",
       "9       1         0.598591 -1.482881  0.387853 -0.398188\n",
       "10      1         2.584978  0.158012  0.906381 -0.296287\n",
       "11      1         0.973978  0.181813  0.446687 -0.229846\n",
       "12      1        -0.680517  0.001374 -0.626138  0.080671\n",
       "13      1         1.039724  0.590670  0.493274 -0.411890\n",
       "14      1         0.154029 -0.683559 -0.080896 -0.316528"
      ]
     },
     "execution_count": 41,
     "metadata": {},
     "output_type": "execute_result"
    }
   ],
   "source": [
    "indiv_params.head(35)"
   ]
  },
  {
   "cell_type": "code",
   "execution_count": 42,
   "metadata": {},
   "outputs": [
    {
     "data": {
      "text/html": [
       "<div>\n",
       "<style>\n",
       "    .dataframe thead tr:only-child th {\n",
       "        text-align: right;\n",
       "    }\n",
       "\n",
       "    .dataframe thead th {\n",
       "        text-align: left;\n",
       "    }\n",
       "\n",
       "    .dataframe tbody tr th {\n",
       "        vertical-align: top;\n",
       "    }\n",
       "</style>\n",
       "<table border=\"1\" class=\"dataframe\">\n",
       "  <thead>\n",
       "    <tr style=\"text-align: right;\">\n",
       "      <th></th>\n",
       "      <th>add</th>\n",
       "      <th>true_add</th>\n",
       "    </tr>\n",
       "  </thead>\n",
       "  <tbody>\n",
       "    <tr>\n",
       "      <th>add</th>\n",
       "      <td>1.000000</td>\n",
       "      <td>0.752817</td>\n",
       "    </tr>\n",
       "    <tr>\n",
       "      <th>true_add</th>\n",
       "      <td>0.752817</td>\n",
       "      <td>1.000000</td>\n",
       "    </tr>\n",
       "  </tbody>\n",
       "</table>\n",
       "</div>"
      ],
      "text/plain": [
       "               add  true_add\n",
       "add       1.000000  0.752817\n",
       "true_add  0.752817  1.000000"
      ]
     },
     "execution_count": 42,
     "metadata": {},
     "output_type": "execute_result"
    }
   ],
   "source": [
    "indiv_params[['add','true_add']].corr()"
   ]
  },
  {
   "cell_type": "code",
   "execution_count": 43,
   "metadata": {},
   "outputs": [
    {
     "data": {
      "text/html": [
       "<div>\n",
       "<style>\n",
       "    .dataframe thead tr:only-child th {\n",
       "        text-align: right;\n",
       "    }\n",
       "\n",
       "    .dataframe thead th {\n",
       "        text-align: left;\n",
       "    }\n",
       "\n",
       "    .dataframe tbody tr th {\n",
       "        vertical-align: top;\n",
       "    }\n",
       "</style>\n",
       "<table border=\"1\" class=\"dataframe\">\n",
       "  <thead>\n",
       "    <tr style=\"text-align: right;\">\n",
       "      <th></th>\n",
       "      <th>sub</th>\n",
       "      <th>true_sub</th>\n",
       "    </tr>\n",
       "  </thead>\n",
       "  <tbody>\n",
       "    <tr>\n",
       "      <th>sub</th>\n",
       "      <td>1.000000</td>\n",
       "      <td>0.767598</td>\n",
       "    </tr>\n",
       "    <tr>\n",
       "      <th>true_sub</th>\n",
       "      <td>0.767598</td>\n",
       "      <td>1.000000</td>\n",
       "    </tr>\n",
       "  </tbody>\n",
       "</table>\n",
       "</div>"
      ],
      "text/plain": [
       "               sub  true_sub\n",
       "sub       1.000000  0.767598\n",
       "true_sub  0.767598  1.000000"
      ]
     },
     "execution_count": 43,
     "metadata": {},
     "output_type": "execute_result"
    }
   ],
   "source": [
    "indiv_params[['sub','true_sub']].corr()"
   ]
  },
  {
   "cell_type": "code",
   "execution_count": 44,
   "metadata": {},
   "outputs": [
    {
     "data": {
      "text/plain": [
       "interval\n",
       "0   -0.821030\n",
       "1   -0.659618\n",
       "2   -0.405675\n",
       "3   -0.197921\n",
       "4    0.334409\n",
       "5    0.372244\n",
       "6    0.082320\n",
       "7   -0.208276\n",
       "8   -0.080617\n",
       "9    0.035490\n",
       "Name: add, dtype: float64"
      ]
     },
     "execution_count": 44,
     "metadata": {},
     "output_type": "execute_result"
    }
   ],
   "source": [
    "indiv_params.loc[19]['add']"
   ]
  },
  {
   "cell_type": "markdown",
   "metadata": {},
   "source": [
    "Compare estimated and true add/sub rates for two different individuals "
   ]
  },
  {
   "cell_type": "code",
   "execution_count": 45,
   "metadata": {},
   "outputs": [
    {
     "data": {
      "text/plain": [
       "[<matplotlib.lines.Line2D at 0x12f1ca950>]"
      ]
     },
     "execution_count": 45,
     "metadata": {},
     "output_type": "execute_result"
    },
    {
     "data": {
      "image/png": "[encoded data removed]",
      "text/plain": [
       "<matplotlib.figure.Figure at 0x12f1a6fd0>"
      ]
     },
     "metadata": {},
     "output_type": "display_data"
    }
   ],
   "source": [
    "plt.plot(range(0,10),indiv_params.loc[19]['add'])\n",
    "plt.plot(range(0,10),indiv_params.loc[19]['true_add'])"
   ]
  },
  {
   "cell_type": "code",
   "execution_count": 46,
   "metadata": {},
   "outputs": [
    {
     "data": {
      "text/plain": [
       "[<matplotlib.lines.Line2D at 0x12f20fc90>]"
      ]
     },
     "execution_count": 46,
     "metadata": {},
     "output_type": "execute_result"
    },
    {
     "data": {
      "image/png": "[encoded data removed]",
      "text/plain": [
       "<matplotlib.figure.Figure at 0x11e6d7a90>"
      ]
     },
     "metadata": {},
     "output_type": "display_data"
    }
   ],
   "source": [
    "plt.plot(range(0,10),indiv_params.loc[19]['sub'])\n",
    "plt.plot(range(0,10),indiv_params.loc[19]['true_sub'])"
   ]
  }
 ],
 "metadata": {
  "kernelspec": {
   "display_name": "Python [conda env:pred-clean]",
   "language": "python",
   "name": "conda-env-pred-clean-py"
  },
  "language_info": {
   "codemirror_mode": {
    "name": "ipython",
    "version": 2
   },
   "file_extension": ".py",
   "mimetype": "text/x-python",
   "name": "python",
   "nbconvert_exporter": "python",
   "pygments_lexer": "ipython2",
   "version": "2.7.13"
  }
 },
 "nbformat": 4,
 "nbformat_minor": 2
}
